{
 "cells": [
  {
   "cell_type": "markdown",
   "id": "3a26e16e",
   "metadata": {},
   "source": [
    "# Lab | Revisiting Machine Learning Case Study\n",
    "\n",
    "- In this lab, you will use learningSet.csv file which you already have cloned in today's activities.\n",
    "\n",
    "## Instructions\n",
    "Complete the following steps on the categorical columns in the dataset:\n",
    "\n",
    "- Check for null values in all the columns\n",
    "\n",
    "- Exclude the following variables by looking at the definitions. Create a new empty list called drop_list. We will append this list and then drop all the columns in this list later:\n",
    "\n",
    "    - OSOURCE - symbol definitions not provided, too many categories\n",
    "    - ZIP CODE - we are including state already\n",
    "\n",
    "- Identify columns that over 85% missing values\n",
    "\n",
    "- Remove those columns from the dataframe\n",
    "\n",
    "- Reduce the number of categories in the column GENDER. The column should only have either \"M\" for males, \"F\" for females, and \"other\" for all the rest\n"
   ]
  },
  {
   "cell_type": "code",
   "execution_count": 95,
   "id": "2fc16ac2",
   "metadata": {},
   "outputs": [],
   "source": [
    "import pandas as pd\n",
    "import seaborn as sns\n",
    "import matplotlib.pyplot as plt\n",
    "import numpy as np\n",
    "from sklearn.impute import KNNImputer\n"
   ]
  },
  {
   "cell_type": "code",
   "execution_count": 96,
   "id": "8756f297",
   "metadata": {},
   "outputs": [
    {
     "name": "stderr",
     "output_type": "stream",
     "text": [
      "/opt/anaconda3/lib/python3.7/site-packages/IPython/core/interactiveshell.py:3326: DtypeWarning: Columns (8) have mixed types.Specify dtype option on import or set low_memory=False.\n",
      "  exec(code_obj, self.user_global_ns, self.user_ns)\n"
     ]
    }
   ],
   "source": [
    "df  = pd.read_csv('/Users/dooinnkim/ironhack_da_may_2023/machine-learning/lab-revisiting-machine-learning/learningSet.csv')\n",
    "                  "
   ]
  },
  {
   "cell_type": "code",
   "execution_count": 97,
   "id": "cfaaac76",
   "metadata": {},
   "outputs": [
    {
     "data": {
      "text/html": [
       "<div>\n",
       "<style scoped>\n",
       "    .dataframe tbody tr th:only-of-type {\n",
       "        vertical-align: middle;\n",
       "    }\n",
       "\n",
       "    .dataframe tbody tr th {\n",
       "        vertical-align: top;\n",
       "    }\n",
       "\n",
       "    .dataframe thead th {\n",
       "        text-align: right;\n",
       "    }\n",
       "</style>\n",
       "<table border=\"1\" class=\"dataframe\">\n",
       "  <thead>\n",
       "    <tr style=\"text-align: right;\">\n",
       "      <th></th>\n",
       "      <th>ODATEDW</th>\n",
       "      <th>OSOURCE</th>\n",
       "      <th>TCODE</th>\n",
       "      <th>STATE</th>\n",
       "      <th>ZIP</th>\n",
       "      <th>MAILCODE</th>\n",
       "      <th>PVASTATE</th>\n",
       "      <th>DOB</th>\n",
       "      <th>NOEXCH</th>\n",
       "      <th>RECINHSE</th>\n",
       "      <th>...</th>\n",
       "      <th>TARGET_D</th>\n",
       "      <th>HPHONE_D</th>\n",
       "      <th>RFA_2R</th>\n",
       "      <th>RFA_2F</th>\n",
       "      <th>RFA_2A</th>\n",
       "      <th>MDMAUD_R</th>\n",
       "      <th>MDMAUD_F</th>\n",
       "      <th>MDMAUD_A</th>\n",
       "      <th>CLUSTER2</th>\n",
       "      <th>GEOCODE2</th>\n",
       "    </tr>\n",
       "  </thead>\n",
       "  <tbody>\n",
       "    <tr>\n",
       "      <th>0</th>\n",
       "      <td>8901</td>\n",
       "      <td>GRI</td>\n",
       "      <td>0</td>\n",
       "      <td>IL</td>\n",
       "      <td>61081</td>\n",
       "      <td></td>\n",
       "      <td></td>\n",
       "      <td>3712</td>\n",
       "      <td>0</td>\n",
       "      <td></td>\n",
       "      <td>...</td>\n",
       "      <td>0.0</td>\n",
       "      <td>0</td>\n",
       "      <td>L</td>\n",
       "      <td>4</td>\n",
       "      <td>E</td>\n",
       "      <td>X</td>\n",
       "      <td>X</td>\n",
       "      <td>X</td>\n",
       "      <td>39.0</td>\n",
       "      <td>C</td>\n",
       "    </tr>\n",
       "    <tr>\n",
       "      <th>1</th>\n",
       "      <td>9401</td>\n",
       "      <td>BOA</td>\n",
       "      <td>1</td>\n",
       "      <td>CA</td>\n",
       "      <td>91326</td>\n",
       "      <td></td>\n",
       "      <td></td>\n",
       "      <td>5202</td>\n",
       "      <td>0</td>\n",
       "      <td></td>\n",
       "      <td>...</td>\n",
       "      <td>0.0</td>\n",
       "      <td>0</td>\n",
       "      <td>L</td>\n",
       "      <td>2</td>\n",
       "      <td>G</td>\n",
       "      <td>X</td>\n",
       "      <td>X</td>\n",
       "      <td>X</td>\n",
       "      <td>1.0</td>\n",
       "      <td>A</td>\n",
       "    </tr>\n",
       "    <tr>\n",
       "      <th>2</th>\n",
       "      <td>9001</td>\n",
       "      <td>AMH</td>\n",
       "      <td>1</td>\n",
       "      <td>NC</td>\n",
       "      <td>27017</td>\n",
       "      <td></td>\n",
       "      <td></td>\n",
       "      <td>0</td>\n",
       "      <td>0</td>\n",
       "      <td></td>\n",
       "      <td>...</td>\n",
       "      <td>0.0</td>\n",
       "      <td>1</td>\n",
       "      <td>L</td>\n",
       "      <td>4</td>\n",
       "      <td>E</td>\n",
       "      <td>X</td>\n",
       "      <td>X</td>\n",
       "      <td>X</td>\n",
       "      <td>60.0</td>\n",
       "      <td>C</td>\n",
       "    </tr>\n",
       "    <tr>\n",
       "      <th>3</th>\n",
       "      <td>8701</td>\n",
       "      <td>BRY</td>\n",
       "      <td>0</td>\n",
       "      <td>CA</td>\n",
       "      <td>95953</td>\n",
       "      <td></td>\n",
       "      <td></td>\n",
       "      <td>2801</td>\n",
       "      <td>0</td>\n",
       "      <td></td>\n",
       "      <td>...</td>\n",
       "      <td>0.0</td>\n",
       "      <td>1</td>\n",
       "      <td>L</td>\n",
       "      <td>4</td>\n",
       "      <td>E</td>\n",
       "      <td>X</td>\n",
       "      <td>X</td>\n",
       "      <td>X</td>\n",
       "      <td>41.0</td>\n",
       "      <td>C</td>\n",
       "    </tr>\n",
       "    <tr>\n",
       "      <th>4</th>\n",
       "      <td>8601</td>\n",
       "      <td></td>\n",
       "      <td>0</td>\n",
       "      <td>FL</td>\n",
       "      <td>33176</td>\n",
       "      <td></td>\n",
       "      <td></td>\n",
       "      <td>2001</td>\n",
       "      <td>0</td>\n",
       "      <td>X</td>\n",
       "      <td>...</td>\n",
       "      <td>0.0</td>\n",
       "      <td>1</td>\n",
       "      <td>L</td>\n",
       "      <td>2</td>\n",
       "      <td>F</td>\n",
       "      <td>X</td>\n",
       "      <td>X</td>\n",
       "      <td>X</td>\n",
       "      <td>26.0</td>\n",
       "      <td>A</td>\n",
       "    </tr>\n",
       "  </tbody>\n",
       "</table>\n",
       "<p>5 rows × 481 columns</p>\n",
       "</div>"
      ],
      "text/plain": [
       "   ODATEDW OSOURCE  TCODE STATE    ZIP MAILCODE PVASTATE   DOB NOEXCH  \\\n",
       "0     8901     GRI      0    IL  61081                    3712      0   \n",
       "1     9401     BOA      1    CA  91326                    5202      0   \n",
       "2     9001     AMH      1    NC  27017                       0      0   \n",
       "3     8701     BRY      0    CA  95953                    2801      0   \n",
       "4     8601              0    FL  33176                    2001      0   \n",
       "\n",
       "  RECINHSE  ... TARGET_D HPHONE_D RFA_2R RFA_2F RFA_2A MDMAUD_R  MDMAUD_F  \\\n",
       "0           ...      0.0        0      L      4      E        X         X   \n",
       "1           ...      0.0        0      L      2      G        X         X   \n",
       "2           ...      0.0        1      L      4      E        X         X   \n",
       "3           ...      0.0        1      L      4      E        X         X   \n",
       "4        X  ...      0.0        1      L      2      F        X         X   \n",
       "\n",
       "  MDMAUD_A CLUSTER2 GEOCODE2  \n",
       "0        X     39.0        C  \n",
       "1        X      1.0        A  \n",
       "2        X     60.0        C  \n",
       "3        X     41.0        C  \n",
       "4        X     26.0        A  \n",
       "\n",
       "[5 rows x 481 columns]"
      ]
     },
     "execution_count": 97,
     "metadata": {},
     "output_type": "execute_result"
    }
   ],
   "source": [
    "df.head()"
   ]
  },
  {
   "cell_type": "markdown",
   "id": "45a8ad6c",
   "metadata": {},
   "source": [
    "### Check for null values in all the columns"
   ]
  },
  {
   "cell_type": "code",
   "execution_count": 98,
   "id": "f00816c6",
   "metadata": {},
   "outputs": [
    {
     "data": {
      "text/plain": [
       "ODATEDW       0\n",
       "OSOURCE       0\n",
       "TCODE         0\n",
       "STATE         0\n",
       "ZIP           0\n",
       "           ... \n",
       "MDMAUD_R      0\n",
       "MDMAUD_F      0\n",
       "MDMAUD_A      0\n",
       "CLUSTER2    132\n",
       "GEOCODE2    132\n",
       "Length: 481, dtype: int64"
      ]
     },
     "execution_count": 98,
     "metadata": {},
     "output_type": "execute_result"
    }
   ],
   "source": [
    "df.isnull().sum()"
   ]
  },
  {
   "cell_type": "markdown",
   "id": "846f6463",
   "metadata": {},
   "source": [
    "### Excluding columns: OSOURCE, ZIP"
   ]
  },
  {
   "cell_type": "code",
   "execution_count": 99,
   "id": "a0b24f86",
   "metadata": {},
   "outputs": [],
   "source": [
    "drop_list = ['OSOURCE', 'ZIP']\n",
    "df = df.drop(columns=drop_list)\n",
    "\n"
   ]
  },
  {
   "cell_type": "markdown",
   "id": "1020b187",
   "metadata": {},
   "source": [
    "### Identify columns that over 85% missing values"
   ]
  },
  {
   "cell_type": "code",
   "execution_count": 100,
   "id": "a5f8bd6f",
   "metadata": {},
   "outputs": [
    {
     "name": "stdout",
     "output_type": "stream",
     "text": [
      "Columns with more than 85% missing values:\n",
      "RDATE_5     0.999906\n",
      "RAMNT_5     0.999906\n",
      "RDATE_3     0.997464\n",
      "RAMNT_3     0.997464\n",
      "RDATE_4     0.997055\n",
      "RAMNT_4     0.997055\n",
      "RAMNT_6     0.991867\n",
      "RDATE_6     0.991867\n",
      "RAMNT_15    0.923888\n",
      "RDATE_15    0.923888\n",
      "RDATE_23    0.917631\n",
      "RAMNT_23    0.917631\n",
      "RDATE_20    0.917327\n",
      "RAMNT_20    0.917327\n",
      "RAMNT_7     0.906773\n",
      "RDATE_7     0.906773\n",
      "RAMNT_17    0.901469\n",
      "RDATE_17    0.901469\n",
      "RDATE_21    0.900296\n",
      "RAMNT_21    0.900296\n",
      "RAMNT_10    0.890360\n",
      "RDATE_10    0.890360\n",
      "RAMNT_13    0.871609\n",
      "RDATE_13    0.871609\n",
      "NUMCHLD     0.870184\n",
      "dtype: float64\n"
     ]
    }
   ],
   "source": [
    "missing_percentage = df.isnull().sum() / len(df)\n",
    "missing_percentage_sorted = missing_percentage.sort_values(ascending=False)\n",
    "missing_percentage_filtered = missing_percentage_sorted[missing_percentage_sorted > 0.85]\n",
    "\n",
    "\n",
    "print(\"Columns with more than 85% missing values:\")\n",
    "print(missing_percentage_filtered)\n"
   ]
  },
  {
   "cell_type": "markdown",
   "id": "8efd606c",
   "metadata": {},
   "source": [
    "### Remove those columns from the dataframe"
   ]
  },
  {
   "cell_type": "code",
   "execution_count": 101,
   "id": "2203d9ea",
   "metadata": {},
   "outputs": [],
   "source": [
    "columns_to_drop = missing_percentage[missing_percentage > 0.85].index\n",
    "df.drop(columns=columns_to_drop, inplace=True)\n",
    "\n"
   ]
  },
  {
   "cell_type": "markdown",
   "id": "5da03905",
   "metadata": {},
   "source": [
    "### Modify values in Gender Column"
   ]
  },
  {
   "cell_type": "code",
   "execution_count": 102,
   "id": "8212ee56",
   "metadata": {},
   "outputs": [
    {
     "name": "stdout",
     "output_type": "stream",
     "text": [
      "F    51277\n",
      "M    39094\n",
      "      2957\n",
      "U     1715\n",
      "J      365\n",
      "C        2\n",
      "A        2\n",
      "Name: GENDER, dtype: int64\n"
     ]
    }
   ],
   "source": [
    "print(df['GENDER'].value_counts())\n",
    "df['GENDER'] = df['GENDER'].fillna('F')"
   ]
  },
  {
   "cell_type": "code",
   "execution_count": 103,
   "id": "31a1a60c",
   "metadata": {},
   "outputs": [],
   "source": [
    "Other = [' ', 'C', 'U', 'J', 'A']\n",
    "\n",
    "df['GENDER'] = df['GENDER'].replace(Other, 'Other')\n"
   ]
  },
  {
   "cell_type": "code",
   "execution_count": 104,
   "id": "22fff9f2",
   "metadata": {},
   "outputs": [
    {
     "name": "stdout",
     "output_type": "stream",
     "text": [
      "F        51277\n",
      "M        39094\n",
      "Other     5041\n",
      "Name: GENDER, dtype: int64\n"
     ]
    }
   ],
   "source": [
    "print(df['GENDER'].value_counts())\n"
   ]
  },
  {
   "cell_type": "markdown",
   "id": "5df52e92",
   "metadata": {},
   "source": [
    "# Lab | Feature engineering"
   ]
  },
  {
   "cell_type": "markdown",
   "id": "52aebd38",
   "metadata": {},
   "source": [
    "## Instructions\n",
    "Here we will work on cleaning some of the other columns in the dataset using the techniques that we used before in the lessons.\n",
    "\n",
    "- Check for null values in the numerical columns.\n",
    "- Use appropriate methods to clean the columns GEOCODE2, WEALTH1, ADI, DMA,and MSA.\n",
    "- Use appropriate EDA technique where ever necessary."
   ]
  },
  {
   "cell_type": "code",
   "execution_count": 105,
   "id": "c251ca9d",
   "metadata": {},
   "outputs": [
    {
     "data": {
      "text/plain": [
       "ODATEDW         0\n",
       "TCODE           0\n",
       "DOB             0\n",
       "AGE         23665\n",
       "INCOME      21286\n",
       "            ...  \n",
       "TARGET_B        0\n",
       "TARGET_D        0\n",
       "HPHONE_D        0\n",
       "RFA_2F          0\n",
       "CLUSTER2      132\n",
       "Length: 382, dtype: int64"
      ]
     },
     "execution_count": 105,
     "metadata": {},
     "output_type": "execute_result"
    }
   ],
   "source": [
    "numeric_columns = df.select_dtypes(include=['number'])\n",
    "\n",
    "numeric_columns.isnull().sum()"
   ]
  },
  {
   "cell_type": "code",
   "execution_count": 106,
   "id": "5860c660",
   "metadata": {
    "scrolled": false
   },
   "outputs": [
    {
     "name": "stdout",
     "output_type": "stream",
     "text": [
      "GEOCODE2      132\n",
      "WEALTH1     44732\n",
      "ADI           132\n",
      "DMA           132\n",
      "MSA           132\n",
      "dtype: int64\n"
     ]
    }
   ],
   "source": [
    "selected_colums = df[['GEOCODE2', 'WEALTH1', 'ADI', 'DMA', 'MSA']]\n",
    "selected_null = selected_colums.isnull().sum()\n",
    "print(selected_null)"
   ]
  },
  {
   "cell_type": "code",
   "execution_count": 107,
   "id": "283516fd",
   "metadata": {},
   "outputs": [
    {
     "data": {
      "text/plain": [
       "GEOCODE2     0.138347\n",
       "WEALTH1     46.882992\n",
       "ADI          0.138347\n",
       "DMA          0.138347\n",
       "MSA          0.138347\n",
       "dtype: float64"
      ]
     },
     "execution_count": 107,
     "metadata": {},
     "output_type": "execute_result"
    }
   ],
   "source": [
    "selected_null / len(df) * 100"
   ]
  },
  {
   "cell_type": "code",
   "execution_count": 108,
   "id": "5937a44b",
   "metadata": {},
   "outputs": [
    {
     "data": {
      "text/plain": [
       "GEOCODE2     object\n",
       "WEALTH1     float64\n",
       "ADI         float64\n",
       "DMA         float64\n",
       "MSA         float64\n",
       "dtype: object"
      ]
     },
     "execution_count": 108,
     "metadata": {},
     "output_type": "execute_result"
    }
   ],
   "source": [
    "selected_colums.dtypes"
   ]
  },
  {
   "cell_type": "code",
   "execution_count": 109,
   "id": "15d1212d",
   "metadata": {},
   "outputs": [
    {
     "name": "stdout",
     "output_type": "stream",
     "text": [
      "['C' 'A' 'D' 'B' ' ' nan]\n",
      "[nan  9.  1.  4.  2.  6.  0.  5.  8.  3.  7.]\n",
      "[177.  13. 281.  67. 127. 185.  91. 251. 391. 181. 269.  83. 107. 249.\n",
      " 291.  57. 227. 329. 351.  55. 133.  51.  73. 159. 201.  75. 233. 591.\n",
      " 203. 175.  59. 105. 111. 173. 415. 323. 187.  65. 412. 109. 425. 405.\n",
      " 197. 279. 645. 207.  89. 361. 209. 213.  15.  21. 113. 131. 469. 199.\n",
      " 129. 441. 459. 235. 301.  39. 429. 285. 245. 335. 393. 577. 439. 455.\n",
      " 383. 263.   0. 427. 307. 275. 119. 229. 273. 325. 371. 377. 315. 342.\n",
      " 421. 219.  61.  93. 375. 283. 381. 243. 353. 613. 339. 367. 417. 299.\n",
      " 271. 157.  77. 327.  53.  87. 451. 627.  71. 253. 363. 403. 115. 389.\n",
      "  63. 321. 448. 237. 217. 241. 123. 221. 165. 277.  85. 319. 247.  69.\n",
      " 379.  95.  17. 625. 462. 303. 179. 331. 231. 337. 257. 409. 457. 359.\n",
      " 373.  nan 413. 215. 205. 313. 211. 305. 355. 419. 473. 423. 121. 433.\n",
      " 431. 465. 445.  19. 467. 255. 437. 117. 449. 195. 435. 621. 295.  11.\n",
      " 183. 265. 317.   9.   3. 151. 471. 293. 297. 603. 385.  33. 261.  25.\n",
      " 443.  29. 357. 135.  35. 143. 153. 149.  47. 140.  43. 141. 287. 345.\n",
      " 103.  45. 139. 651.  31. 601. 145. 161. 147.]\n",
      "[682. 803. 518. 862. 528. 691. 509. 643. 624. 659. 671. 527. 613. 716.\n",
      " 770. 505. 717. 534. 560. 547. 571. 602. 800. 638. 618. 609. 820. 821.\n",
      " 635. 675. 563. 819. 617. 637. 606. 709. 632. 807. 698. 623. 507. 627.\n",
      " 524. 517. 539. 649. 868. 546. 529. 567. 825. 512. 669. 764. 575. 548.\n",
      " 662. 811. 801. 652. 771. 603. 556. 622. 561. 724. 804. 633. 839. 686.\n",
      " 650. 743. 619. 678. 753. 610. 745. 604. 749. 670. 765. 711. 553. 762.\n",
      " 520. 503. 551. 515. 647. 544.   0. 676. 752. 545. 754. 810. 790. 656.\n",
      " 755. 641. 616. 628. 588. 581. 540. 658. 583. 866. 642. 746. 634. 648.\n",
      " 705. 725. 744. 513. 612. 813. 531. 751. 500. 630. 611. 789. 582. 693.\n",
      " 692. 828. 626. 710. 542. 855. 687. 679. 640. 722. 620. 881. 564. 522.\n",
      " 756. 570. 718.  nan 530. 557. 625. 541. 657. 631. 550. 525. 605. 773.\n",
      " 519. 535. 600. 734. 759. 757. 511. 798. 802. 644. 651. 702. 737. 767.\n",
      " 673. 736. 636. 592. 758. 504. 639. 501. 506. 523. 760. 766. 646. 740.\n",
      " 574. 598. 533. 661. 508. 537. 514. 510. 577. 549. 532. 521. 565. 566.\n",
      " 555. 569. 573. 554. 543. 538. 584. 536. 502. 552. 516.]\n",
      "[   0. 4480. 9340. 5000. 2030. 3960. 5360. 3480.  760. 2160. 5960. 5120.\n",
      "  440. 6580. 1600.  680. 3360. 7040. 2920. 3120. 6440.  640. 6120. 3000.\n",
      " 7600. 2680. 5080. 1360. 2180. 4420. 1960. 6640. 7360. 5945. 1920. 1145.\n",
      " 7520. 2800. 1520. 7510. 1620. 4520. 7320.  720. 4720. 1560. 8960.   40.\n",
      " 6720.  520. 9360. 3710. 8280. 6760. 3160. 5560. 3600. 6780. 5800. 4120.\n",
      " 5160. 5880.  380. 3440. 2710. 2020. 9040. 6200. 6880. 6920. 2760. 7080.\n",
      " 4080. 2580. 4100. 5790. 4200.  600. 4680. 4040. 1640. 5775. 8720. 3980.\n",
      " 2240. 1720. 5910. 9260.  200. 7400. 1020. 3290. 2720. 7240. 3800. 8120.\n",
      "  870. 2320. 3760. 1040. 2840. 3880.  920. 6080.  460.  320. 1400. 3320.\n",
      " 2640. 8200. 4890. 3660. 2670. 1000. 2520. 2440. 8520. 3720. 2080. 7500.\n",
      " 3920. 1125. 4400.  840. 7485. 8750. 8735. 1150. 5280. 3285. 7460. 2620.\n",
      " 7160. 4920. 8600.  880. 2985. 5920. 2655. 3560.   nan 3500. 7720. 7480.\n",
      "  860. 2330. 7680. 5200. 3400. 3605. 2750. 8240. 3080. 5170. 3150.  480.\n",
      " 6660. 3840. 2120. 3810. 2960. 7840. 5240. 6690. 1760. 6015. 8780. 4900.\n",
      " 4280. 7640. 3520. 7620. 8800. 2400. 9200. 7920. 8940.  120. 2995. 1440.\n",
      " 8440. 1840. 1880. 3620. 8560. 3850. 1080. 5345. 7120. 8840.  220. 1260.\n",
      " 6980. 6895. 1580. 6960. 1660. 1800. 4600. 6600. 7800. 2560. 2200. 3870.\n",
      " 2700. 8320. 2040.  500. 5720. 4940. 2980. 6560. 6820. 2650. 7880. 8920.\n",
      " 4880. 3350. 3060. 2900. 5330. 6340.  560. 3040. 9270. 3580. 1740. 2340.\n",
      " 5190. 8640. 6740. 1123. 8140. 1240. 4360. 7760. 1350. 7490. 8360. 2290.\n",
      " 3740. 5380. 1010. 9080. 2880. 6160. 3700.  450. 5990. 5483. 4150. 9160.\n",
      " 3680. 5523. 7200. 6520. 6280. 2000. 7000. 5600. 1480. 6240. 6403. 1280.\n",
      " 1680. 7560.  160.  743. 5640. 1303. 2281. 1320. 3240. 8400.   80. 5015.\n",
      " 9280. 3200. 6800. 4000.  875. 9140. 9000. 3283. 2975. 8003. 6840.  733.\n",
      " 1540. 9320. 7610. 3180. 6323. 6483.  960. 8160. 1950. 5660. 8480.]\n"
     ]
    }
   ],
   "source": [
    "for col in selected_colums:\n",
    "     print(selected_colums[col].unique())"
   ]
  },
  {
   "cell_type": "code",
   "execution_count": 110,
   "id": "e453909e",
   "metadata": {},
   "outputs": [
    {
     "data": {
      "text/plain": [
       "A    34484\n",
       "B    28505\n",
       "D    16580\n",
       "C    15524\n",
       "       187\n",
       "Name: GEOCODE2, dtype: int64"
      ]
     },
     "execution_count": 110,
     "metadata": {},
     "output_type": "execute_result"
    }
   ],
   "source": [
    "# GEOCODE2 missing value is very small amount (only 0.1 %), also empty values are only 187 > we will replace \" \" and missing values as 'A' which is the most frequent value which is 'A' \n",
    "df['GEOCODE2'].value_counts()"
   ]
  },
  {
   "cell_type": "code",
   "execution_count": 111,
   "id": "d83dc9bb",
   "metadata": {},
   "outputs": [
    {
     "data": {
      "text/plain": [
       "A    34803\n",
       "B    28505\n",
       "D    16580\n",
       "C    15524\n",
       "Name: GEOCODE2, dtype: int64"
      ]
     },
     "execution_count": 111,
     "metadata": {},
     "output_type": "execute_result"
    }
   ],
   "source": [
    "df['GEOCODE2'].fillna('A', inplace=True)\n",
    "df['GEOCODE2'] = df['GEOCODE2'].replace(' ', 'A')\n",
    "df['GEOCODE2'].value_counts()\n"
   ]
  },
  {
   "cell_type": "code",
   "execution_count": 112,
   "id": "2f7b7a47",
   "metadata": {},
   "outputs": [
    {
     "data": {
      "text/plain": [
       "9.0    7585\n",
       "8.0    6793\n",
       "7.0    6198\n",
       "6.0    5825\n",
       "5.0    5280\n",
       "4.0    4810\n",
       "3.0    4237\n",
       "2.0    4085\n",
       "1.0    3454\n",
       "0.0    2413\n",
       "Name: WEALTH1, dtype: int64"
      ]
     },
     "execution_count": 112,
     "metadata": {},
     "output_type": "execute_result"
    }
   ],
   "source": [
    "# The initial assigned dtype for WEALTH1 is float. But it seems more categorical with hierarchical order (1~9). So we convert this into object dtype\n",
    "df['WEALTH1'] = df['WEALTH1'].astype('object')\n",
    "\n",
    "df['WEALTH1'].value_counts()"
   ]
  },
  {
   "cell_type": "code",
   "execution_count": 113,
   "id": "e1d8025e",
   "metadata": {},
   "outputs": [
    {
     "data": {
      "text/plain": [
       "46.882991657233895"
      ]
     },
     "execution_count": 113,
     "metadata": {},
     "output_type": "execute_result"
    }
   ],
   "source": [
    "# the missing values for WEALTH1 is quite significant amount (46%). We will either remove the entire column if not signifcant features.\n",
    "df['WEALTH1'].isnull().sum() / len(df) * 100"
   ]
  },
  {
   "cell_type": "code",
   "execution_count": 114,
   "id": "af034b8e",
   "metadata": {},
   "outputs": [
    {
     "data": {
      "image/png": "[encoded data removed]",
      "text/plain": [
       "<Figure size 432x288 with 1 Axes>"
      ]
     },
     "metadata": {
      "needs_background": "light"
     },
     "output_type": "display_data"
    }
   ],
   "source": [
    "\n",
    "sns.countplot(data=df, x='WEALTH1')\n",
    "\n",
    "plt.show()"
   ]
  },
  {
   "cell_type": "code",
   "execution_count": 115,
   "id": "90bb37aa",
   "metadata": {},
   "outputs": [],
   "source": [
    "# Since the missing values for WEALTH1 is quite significant percentage + I have no domain knowledge if this feature is imprtant, instead of removing entire columns I will use KNN imputer\n",
    "\n",
    "imputer = KNNImputer(n_neighbors=2)\n",
    "\n",
    "df['WEALTH1'] = imputer.fit_transform(df['WEALTH1'].values.reshape(-1, 1))\n",
    "\n"
   ]
  },
  {
   "cell_type": "code",
   "execution_count": 116,
   "id": "f59e4694",
   "metadata": {},
   "outputs": [
    {
     "data": {
      "text/plain": [
       "Index(['ODATEDW', 'TCODE', 'STATE', 'MAILCODE', 'PVASTATE', 'DOB', 'NOEXCH',\n",
       "       'RECINHSE', 'RECP3', 'RECPGVG',\n",
       "       ...\n",
       "       'TARGET_D', 'HPHONE_D', 'RFA_2R', 'RFA_2F', 'RFA_2A', 'MDMAUD_R',\n",
       "       'MDMAUD_F', 'MDMAUD_A', 'CLUSTER2', 'GEOCODE2'],\n",
       "      dtype='object', length=454)"
      ]
     },
     "execution_count": 116,
     "metadata": {},
     "output_type": "execute_result"
    }
   ],
   "source": [
    "df.columns"
   ]
  },
  {
   "cell_type": "code",
   "execution_count": 117,
   "id": "cae0f959",
   "metadata": {},
   "outputs": [
    {
     "data": {
      "text/plain": [
       "<AxesSubplot:xlabel='ADI', ylabel='Count'>"
      ]
     },
     "execution_count": 117,
     "metadata": {},
     "output_type": "execute_result"
    },
    {
     "data": {
      "image/png": "[encoded data removed]",
      "text/plain": [
       "<Figure size 432x288 with 1 Axes>"
      ]
     },
     "metadata": {
      "needs_background": "light"
     },
     "output_type": "display_data"
    }
   ],
   "source": [
    "sns.histplot(df[df['ADI'].notna()]['ADI'],kde=True) "
   ]
  },
  {
   "cell_type": "code",
   "execution_count": 118,
   "id": "0c3e1179",
   "metadata": {},
   "outputs": [
    {
     "data": {
      "text/plain": [
       "187.35640218303945"
      ]
     },
     "execution_count": 118,
     "metadata": {},
     "output_type": "execute_result"
    }
   ],
   "source": [
    "df['ADI'].mean()"
   ]
  },
  {
   "cell_type": "code",
   "execution_count": 119,
   "id": "2ab07f10",
   "metadata": {},
   "outputs": [
    {
     "data": {
      "text/plain": [
       "175.0"
      ]
     },
     "execution_count": 119,
     "metadata": {},
     "output_type": "execute_result"
    }
   ],
   "source": [
    "df['ADI'].median()"
   ]
  },
  {
   "cell_type": "code",
   "execution_count": 120,
   "id": "b290cda8",
   "metadata": {},
   "outputs": [
    {
     "data": {
      "text/plain": [
       "<AxesSubplot:xlabel='DMA', ylabel='Count'>"
      ]
     },
     "execution_count": 120,
     "metadata": {},
     "output_type": "execute_result"
    },
    {
     "data": {
      "image/png": "[encoded data removed]",
      "text/plain": [
       "<Figure size 432x288 with 1 Axes>"
      ]
     },
     "metadata": {
      "needs_background": "light"
     },
     "output_type": "display_data"
    }
   ],
   "source": [
    "sns.histplot(df[df['DMA'].notna()]['DMA'],kde=True) "
   ]
  },
  {
   "cell_type": "code",
   "execution_count": 121,
   "id": "15718477",
   "metadata": {},
   "outputs": [
    {
     "data": {
      "text/plain": [
       "<AxesSubplot:xlabel='MSA', ylabel='Count'>"
      ]
     },
     "execution_count": 121,
     "metadata": {},
     "output_type": "execute_result"
    },
    {
     "data": {
      "image/png": "[encoded data removed]",
      "text/plain": [
       "<Figure size 432x288 with 1 Axes>"
      ]
     },
     "metadata": {
      "needs_background": "light"
     },
     "output_type": "display_data"
    }
   ],
   "source": [
    "sns.histplot(df[df['MSA'].notna()]['MSA'],kde=True) "
   ]
  },
  {
   "cell_type": "code",
   "execution_count": 122,
   "id": "4387c62c",
   "metadata": {},
   "outputs": [
    {
     "data": {
      "text/plain": [
       "TARGET_D    1.000000\n",
       "DMA         0.022048\n",
       "WEALTH1     0.017725\n",
       "MSA         0.015054\n",
       "ADI        -0.012700\n",
       "Name: TARGET_D, dtype: float64"
      ]
     },
     "execution_count": 122,
     "metadata": {},
     "output_type": "execute_result"
    }
   ],
   "source": [
    "# it looks like the numeirc features does not have strong correaltion with TARGET_D, so even if we remove those entire columns, the model should not be biased\n",
    "df_corr = df[['TARGET_D','GEOCODE2', 'WEALTH1', 'ADI', 'DMA', 'MSA']]\n",
    "df_corr.corr()[\"TARGET_D\"].sort_values(ascending=False)"
   ]
  },
  {
   "cell_type": "code",
   "execution_count": 123,
   "id": "34d3b1e7",
   "metadata": {},
   "outputs": [],
   "source": [
    "df = df.drop(columns=['DMA', 'ADI', 'MSA'])"
   ]
  },
  {
   "cell_type": "markdown",
   "id": "bdb4838d",
   "metadata": {},
   "source": [
    "### Techiqnues employed for treaing missing values\n",
    "- GEOCODE2: Mode\n",
    "- WEALTH1: KNN imputation\n",
    "- ADI: \n",
    "- DMA\n",
    "- MSA"
   ]
  },
  {
   "cell_type": "code",
   "execution_count": null,
   "id": "b8ca2f7c",
   "metadata": {},
   "outputs": [],
   "source": []
  }
 ],
 "metadata": {
  "kernelspec": {
   "display_name": "Python 3",
   "language": "python",
   "name": "python3"
  },
  "language_info": {
   "codemirror_mode": {
    "name": "ipython",
    "version": 3
   },
   "file_extension": ".py",
   "mimetype": "text/x-python",
   "name": "python",
   "nbconvert_exporter": "python",
   "pygments_lexer": "ipython3",
   "version": "3.7.4"
  }
 },
 "nbformat": 4,
 "nbformat_minor": 5
}
